{
 "cells": [
  {
   "cell_type": "markdown",
   "metadata": {},
   "source": [
    "# Functions"
   ]
  },
  {
   "cell_type": "markdown",
   "metadata": {},
   "source": [
    "Functions are groupings of code that can be easily called again. See the [Python docs](https://docs.python.org/3.5/tutorial/controlflow.html#defining-functions) for a more detailed explanation. And [this tutorial](https://nbviewer.jupyter.org/github/rajathkumarmp/Python-Lectures/blob/master/06.ipynb) provides some more examples."
   ]
  },
  {
   "cell_type": "markdown",
   "metadata": {},
   "source": [
    "## 1. Creating a Function\n",
    "\n",
    "The main parts of a function are shown below:"
   ]
  },
  {
   "cell_type": "code",
   "execution_count": null,
   "metadata": {},
   "outputs": [],
   "source": [
    "def my_function(): # the keyword def indicates this is a function, followed by the function name\n",
    "    print('hello!') # note the indent which says this line is part of the function\n",
    "\n",
    "my_function() # this line isn't indented, showing the end of the function\n",
    "my_function() # we can easily repeat the function by calling it again"
   ]
  },
  {
   "cell_type": "markdown",
   "metadata": {},
   "source": [
    "Create a new function below which prints a message."
   ]
  },
  {
   "cell_type": "code",
   "execution_count": null,
   "metadata": {},
   "outputs": [],
   "source": []
  },
  {
   "cell_type": "markdown",
   "metadata": {},
   "source": [
    "## 2. Input Arguments\n",
    "\n",
    "Data can be passed into a function using input arguments. These are placed in the `( )` of the function:\n",
    "\n",
    "`def my_function(my_input):`\n",
    "\n",
    "This variable can then be used in the function."
   ]
  },
  {
   "cell_type": "code",
   "execution_count": null,
   "metadata": {},
   "outputs": [],
   "source": [
    "def my_custom_greeting(name):\n",
    "    print('hello, ' + name)\n",
    "    \n",
    "my_custom_greeting('duck')\n",
    "my_custom_greeting('cow')"
   ]
  },
  {
   "cell_type": "markdown",
   "metadata": {},
   "source": [
    "Return to your bunny sign exercise from the previous notebook. Copy it here and modify it so that draws the bunny sign by calling a function. Use an argument to pass the message to be drawn on the sign to the function."
   ]
  },
  {
   "cell_type": "code",
   "execution_count": null,
   "metadata": {},
   "outputs": [],
   "source": [
    "# function which draws the sign\n",
    "def bunny_sign(message):\n",
    "\n",
    "    \n",
    "\n",
    "bunny_sign('clever message here')   \n"
   ]
  }
 ],
 "metadata": {
  "kernelspec": {
   "display_name": "Python 3",
   "language": "python",
   "name": "python3"
  },
  "language_info": {
   "codemirror_mode": {
    "name": "ipython",
    "version": 3
   },
   "file_extension": ".py",
   "mimetype": "text/x-python",
   "name": "python",
   "nbconvert_exporter": "python",
   "pygments_lexer": "ipython3",
   "version": "3.7.2"
  }
 },
 "nbformat": 4,
 "nbformat_minor": 2
}
