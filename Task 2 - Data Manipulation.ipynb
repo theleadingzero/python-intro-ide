{
 "cells": [
  {
   "cell_type": "markdown",
   "metadata": {},
   "source": [
    "# Simple Data Manipulation\n",
    "\n",
    "This notebook is about more comfortable working with the more complicated data types and data structures that are native to Python."
   ]
  },
  {
   "cell_type": "markdown",
   "metadata": {},
   "source": [
    "## 1. Lists\n",
    "\n",
    "Lists are just that - lists. They are similar to what other languages call arrays, but Python lists have some important differences. For one, the same list can hold different data types. \n",
    "\n",
    "You can find more information about lists in the [Python docs here](https://docs.python.org/3.6/tutorial/introduction.html#lists) and [here](https://docs.python.org/3.6/tutorial/datastructures.html).\n",
    "\n",
    "Create a list by listing items separated by commas, in between `[ ]` like below:\n"
   ]
  },
  {
   "cell_type": "code",
   "execution_count": null,
   "metadata": {},
   "outputs": [],
   "source": [
    "list_of_ints = [4, 7, 123, 87, 2, 3426]\n",
    "mixed_list = [34, 5.9, 'abc', 4.3]\n",
    "\n",
    "print(list_of_ints)\n",
    "print(mixed_list)"
   ]
  },
  {
   "cell_type": "markdown",
   "metadata": {},
   "source": [
    "Below create and print the following lists: "
   ]
  },
  {
   "cell_type": "code",
   "execution_count": null,
   "metadata": {},
   "outputs": [],
   "source": [
    "# [1, 2, 3, 4, 5]\n",
    "# ['fox', 'wolf', 'bear']"
   ]
  },
  {
   "cell_type": "markdown",
   "metadata": {},
   "source": [
    "After a list has been created, you can add a new value to the end with the `append()` function."
   ]
  },
  {
   "cell_type": "code",
   "execution_count": null,
   "metadata": {},
   "outputs": [],
   "source": [
    "utensils = ['spoon', 'fork']\n",
    "print(utensils)\n",
    "utensils.append('knife')\n",
    "print(utensils)"
   ]
  },
  {
   "cell_type": "markdown",
   "metadata": {},
   "source": [
    "Below add another item to the list `utensils`."
   ]
  },
  {
   "cell_type": "code",
   "execution_count": null,
   "metadata": {},
   "outputs": [],
   "source": []
  },
  {
   "cell_type": "markdown",
   "metadata": {},
   "source": [
    "## 2. Slicing Lists\n",
    "\n",
    "You can retrieve a particular item in a list with its index. Like in Arduino, the first item in the list has an index of 0."
   ]
  },
  {
   "cell_type": "code",
   "execution_count": null,
   "metadata": {
    "scrolled": true
   },
   "outputs": [],
   "source": [
    "flowers = ['tulip', 'rose', 'daisy', 'daffodil', 'crocus' 'sunflower', 'snowbell']\n",
    "# the first item in the list\n",
    "print( flowers[0] )\n",
    "\n",
    "# the third item\n",
    "print( flowers[2] )\n",
    "\n",
    "# the second through fourth items\n",
    "print( flowers[1:4])"
   ]
  },
  {
   "cell_type": "markdown",
   "metadata": {},
   "source": [
    "You can find out how many items are in a list using the `len( )` function. Below calculate the length of the `utensils` list."
   ]
  },
  {
   "cell_type": "code",
   "execution_count": null,
   "metadata": {},
   "outputs": [],
   "source": []
  },
  {
   "cell_type": "markdown",
   "metadata": {},
   "source": [
    "There are also a couple additional useful tricks worth knowing."
   ]
  },
  {
   "cell_type": "code",
   "execution_count": null,
   "metadata": {},
   "outputs": [],
   "source": [
    "# [:] returns a copy of the list with all the items\n",
    "print( flowers[:] )\n",
    "\n",
    "# [-1] returns the last item\n",
    "print( flowers[-1] )\n",
    "\n",
    "# [2:] returns the third through last items\n",
    "print( flowers[2:])\n",
    "\n",
    "# [:6] returns the first through third (4-1) items\n",
    "print( flowers[:4])\n",
    "\n",
    "# [-1:] reverses the list\n",
    "print( flowers[::-1])\n"
   ]
  },
  {
   "cell_type": "markdown",
   "metadata": {},
   "source": [
    "Try slicing and printing the below lists."
   ]
  },
  {
   "cell_type": "code",
   "execution_count": null,
   "metadata": {},
   "outputs": [],
   "source": [
    "# create a list of 10 items\n",
    "\n",
    "# print the last 3 items\n",
    "\n",
    "# print the first 6 items\n",
    "\n",
    "# print the list in reverse"
   ]
  },
  {
   "cell_type": "markdown",
   "metadata": {},
   "source": [
    "##  3. Slicing Strings\n",
    "\n",
    "Strings can be sliced using the same methods as slicing a list.\n",
    "\n",
    "You also find more help in the [Python docs](https://docs.python.org/3.6/tutorial/introduction.html#strings)."
   ]
  },
  {
   "cell_type": "code",
   "execution_count": null,
   "metadata": {},
   "outputs": [],
   "source": [
    "a = 'elephant'\n",
    "\n",
    "# print last three letters\n",
    "print(a[-3:])\n",
    "\n",
    "# print second letter\n",
    "print(a[1])"
   ]
  },
  {
   "cell_type": "markdown",
   "metadata": {},
   "source": [
    "Complete the following:"
   ]
  },
  {
   "cell_type": "code",
   "execution_count": null,
   "metadata": {},
   "outputs": [],
   "source": [
    "b = 'no lemon no melon'\n",
    "\n",
    "# print lemon\n",
    "\n",
    "# print melon\n",
    "\n",
    "# print melon in a diffent way to above\n",
    "\n",
    "# reverse the string"
   ]
  },
  {
   "cell_type": "markdown",
   "metadata": {},
   "source": [
    "## 4. String Challenge\n",
    "Below is a `string` stored in the variable `bunny`. When printed it displays the bunny sign meme. Create a new `string` that replaces the text `YOUR SLOGAN HERE` with your own message.\n",
    "\n",
    "__BONUS STEP:__ make sure the right side of the sign lines up still after the text has been altered.\n",
    "\n",
    "__HINT:__ You want to slice up the string into different shorter strings holding the top of the sign, the middle, and the bottom. You then will create a new string by combining back together your starting and ending strings with your new middle string. You also find more help in the [Python docs](https://docs.python.org/3.6/tutorial/introduction.html#strings)."
   ]
  },
  {
   "cell_type": "code",
   "execution_count": null,
   "metadata": {},
   "outputs": [],
   "source": [
    "bunny = \"\"\"\n",
    "|￣￣￣￣￣ | \n",
    "|  YOUR   | \n",
    "|  SLOGAN | \n",
    "|  HERE   | \n",
    "|＿＿＿＿＿ | \n",
    "(\\__/) || \n",
    "(•ㅅ•) || \n",
    "/ 　 づ\n",
    "\"\"\"\n",
    "print(bunny)"
   ]
  },
  {
   "cell_type": "code",
   "execution_count": null,
   "metadata": {},
   "outputs": [],
   "source": []
  },
  {
   "cell_type": "markdown",
   "metadata": {},
   "source": [
    "## 5. If Statements\n",
    "\n",
    "Python is a whitespace-sensitive language. That means that it doesn't use `;` to determine the end of a line of code, but the new line or enter key. The indentation is also important and is used instead of `{ }`.\n",
    "\n",
    "More guidance is available in the [Python docs](https://docs.python.org/3.6/tutorial/controlflow.html#if-statements).\n",
    "\n",
    "See the below example of an `if` statement and pay attention to the indents and punctuation."
   ]
  },
  {
   "cell_type": "code",
   "execution_count": null,
   "metadata": {},
   "outputs": [],
   "source": [
    "x = 10\n",
    "\n",
    "if x > 4:\n",
    "    print('X is above the threshold')\n",
    "    print('------------------------')\n",
    "else:\n",
    "    print('------------------------')\n",
    "    print('X is below the threshold')\n"
   ]
  },
  {
   "cell_type": "markdown",
   "metadata": {},
   "source": [
    "Below create a new if statement that checks how long a string is and prints whether it is over a character limit of 20 characters."
   ]
  },
  {
   "cell_type": "code",
   "execution_count": null,
   "metadata": {},
   "outputs": [],
   "source": []
  },
  {
   "cell_type": "markdown",
   "metadata": {},
   "source": [
    "## 6. For Loops\n",
    "\n",
    "Python for loops are quite different from loops in Arduino or other C-languages.\n",
    "\n",
    "There is a little more information in the [Python docs](https://docs.python.org/3.6/tutorial/controlflow.html#for-statements), but you can also learn about [some fancy techniques](https://docs.python.org/3.6/tutorial/datastructures.html#looping-techniques).\n",
    "\n",
    "In Python, you give the for loop the name of a variable, and it hands back the next item in the list and stores it in that variable. It keeps doing this until it reaches the end of the list. This means you don't even need to know how how items are in the list."
   ]
  },
  {
   "cell_type": "code",
   "execution_count": null,
   "metadata": {},
   "outputs": [],
   "source": [
    "# f is a the variable that will hold the temporary item from the list\n",
    "for f in flowers: # note the keywords for and in\n",
    "    print(f) # note the indent\n",
    "\n",
    "print('end') # the end of the for loop is marked by the unindented line"
   ]
  },
  {
   "cell_type": "markdown",
   "metadata": {},
   "source": [
    "Complete the follwing:"
   ]
  },
  {
   "cell_type": "code",
   "execution_count": null,
   "metadata": {},
   "outputs": [],
   "source": [
    "# print the number of characters in each flower name\n",
    "# in the list of flowers from above"
   ]
  }
 ],
 "metadata": {
  "kernelspec": {
   "display_name": "Python 3",
   "language": "python",
   "name": "python3"
  },
  "language_info": {
   "codemirror_mode": {
    "name": "ipython",
    "version": 3
   },
   "file_extension": ".py",
   "mimetype": "text/x-python",
   "name": "python",
   "nbconvert_exporter": "python",
   "pygments_lexer": "ipython3",
   "version": "3.7.2"
  }
 },
 "nbformat": 4,
 "nbformat_minor": 2
}
