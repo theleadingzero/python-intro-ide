{
 "cells": [
  {
   "cell_type": "markdown",
   "metadata": {},
   "source": [
    "# Plotting Basics\n",
    "\n",
    "Much of the early scientific computing tools for Python were modeled on Matlab. This is most obvious in the naming of the package for plotting graphs - `matplotlib`. The subpackage `pyplot` is a nice way to use the package.\n",
    "\n",
    "There are a lot of settings and customisations you can make to a plot and there are [some tutorials you can follow](https://matplotlib.org/tutorials/index.html). The easiest thing to do is often to [peruse the examples](https://matplotlib.org/gallery/index.html) and see if there's a feature you would like to use."
   ]
  },
  {
   "cell_type": "markdown",
   "metadata": {},
   "source": [
    "## 1. Installation\n",
    "\n",
    "You need to install two more packages into your Anaconda environment. To do so from the command-line, activate the environment you want to use (this may include creating a new environment, if you want). Then type the following into the terminal:\n",
    "\n",
    "`pip install matplotlib scipy`\n",
    "\n",
    "You should see eventually the message 'successful' printed to the screen."
   ]
  },
  {
   "cell_type": "code",
   "execution_count": null,
   "metadata": {},
   "outputs": [],
   "source": [
    "## 2. Importing\n",
    "\n",
    "Python calls its libraries packages. To use any code from a library or package that isn't built into Python, you need to `import` the package. \n",
    "\n",
    "`import numpy`"
   ]
  },
  {
   "cell_type": "markdown",
   "metadata": {},
   "source": [
    "## 2. Plotting tutorial\n",
    "\n",
    "[Go to the `pyplot` tutorial and follow along.](https://matplotlib.org/tutorials/introductory/pyplot.html#sphx-glr-tutorials-introductory-pyplot-py)"
   ]
  },
  {
   "cell_type": "code",
   "execution_count": null,
   "metadata": {},
   "outputs": [],
   "source": []
  }
 ],
 "metadata": {
  "kernelspec": {
   "display_name": "Python 3",
   "language": "python",
   "name": "python3"
  },
  "language_info": {
   "codemirror_mode": {
    "name": "ipython",
    "version": 3
   },
   "file_extension": ".py",
   "mimetype": "text/x-python",
   "name": "python",
   "nbconvert_exporter": "python",
   "pygments_lexer": "ipython3",
   "version": "3.7.2"
  }
 },
 "nbformat": 4,
 "nbformat_minor": 2
}
