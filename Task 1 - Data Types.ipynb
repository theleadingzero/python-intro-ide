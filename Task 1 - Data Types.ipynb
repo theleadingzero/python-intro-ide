{
 "cells": [
  {
   "cell_type": "markdown",
   "metadata": {},
   "source": [
    "# Python Data Types\n",
    "\n",
    "This notebook is about exploring and getting comfortable with some of Python's data types. For each of the below exercises, follow the instructions and try to complete the exercise or answer the question in the coding box directly below. \n",
    "\n",
    "When ready to run your code, make sure the mouse is clicked within the box of code you want to run, then click on the Run button in the menu at the top of the window to run the code you've written. \n",
    "\n",
    "You can find more details on how to use notebooks in the [documentation](https://jupyter-notebook.readthedocs.io/en/stable/examples/Notebook/Notebook%20Basics.html)."
   ]
  },
  {
   "cell_type": "markdown",
   "metadata": {},
   "source": [
    "## 1. Running code\n",
    "\n",
    "Run the below code to compute `10 + 5`, `3-99`, and `5.5*3.2`"
   ]
  },
  {
   "cell_type": "code",
   "execution_count": 1,
   "metadata": {
    "scrolled": true
   },
   "outputs": [
    {
     "name": "stdout",
     "output_type": "stream",
     "text": [
      "15\n",
      "-96\n",
      "17.6\n"
     ]
    }
   ],
   "source": [
    "print(10+5)\n",
    "# note that this is a comment\n",
    "print(3-99)\n",
    "print(5.5*3.2)"
   ]
  },
  {
   "cell_type": "markdown",
   "metadata": {},
   "source": [
    "## 2. Writing code\n",
    "Write your own code to print the output to `3+4`"
   ]
  },
  {
   "cell_type": "code",
   "execution_count": null,
   "metadata": {},
   "outputs": [],
   "source": []
  },
  {
   "cell_type": "markdown",
   "metadata": {},
   "source": [
    "## 3. Simple maths\n",
    "\n",
    "Numbers are either represented as whole numbers (integers or `int`) or as numbers with a fractional part or decimal point (`float`). \n",
    "\n",
    "Most of the operators are what you would expect - add with `+` and multiply with `*`. Note that division with `/` will always give an answer as a `float` and `//` will give an `int` which is the mathematical floor of the result of the division. You can use the `type( )` function to see the data type of a variable.\n",
    "\n",
    "Run the code below to see some examples."
   ]
  },
  {
   "cell_type": "code",
   "execution_count": null,
   "metadata": {},
   "outputs": [],
   "source": [
    "print( type(100 * 8))\n",
    "print( type(0.6 + 4))"
   ]
  },
  {
   "cell_type": "markdown",
   "metadata": {},
   "source": [
    "You can find more information in the [Python docs](https://docs.python.org/3.6/tutorial/introduction.html).\n",
    "\n",
    "Below, compare the output from `9/3` `9/3.` `9//3` and `9//2` and check their data types."
   ]
  },
  {
   "cell_type": "code",
   "execution_count": null,
   "metadata": {},
   "outputs": [],
   "source": []
  },
  {
   "cell_type": "markdown",
   "metadata": {},
   "source": [
    "## 4. Variables\n",
    "\n",
    "Like in other programming languages, you can create a variable that has a name and holds a value. What is different about Python is that you don't need to say what kind of data the variable is holding. Python will just note the data type you've used. For example, in Arduino you would write:\n",
    "\n",
    "```C++\n",
    "int number = 47;\n",
    "```\n",
    "\n",
    "But in Python you would write:\n",
    "\n",
    "```python\n",
    "number = 47\n",
    "```\n",
    "\n",
    "Note a couple differences. First there isn't `int` in front of the Python variable, but there also isn't a `;` at the end.\n",
    "\n",
    "Below create two variables `width` and `height` with two different values, then calculate and print the area (`width * height`)."
   ]
  },
  {
   "cell_type": "code",
   "execution_count": null,
   "metadata": {},
   "outputs": [],
   "source": []
  },
  {
   "cell_type": "markdown",
   "metadata": {},
   "source": [
    "## 5. Strings\n",
    "\n",
    "Strings are text and need to be within pairs of `' '` or `\" \"`. More details can be found in the [Python Docs](https://docs.python.org/3.6/tutorial/introduction.html#strings).\n",
    "\n",
    "You can concatenate strings with the `+`. Try below. Create two variables that each store a string - `'hello'` and `'world'`, then combine them into a new variable called `sentence` that prints `hello world`. \n",
    "\n",
    "__HINT:__ You'll need to add a space somewhere."
   ]
  },
  {
   "cell_type": "code",
   "execution_count": null,
   "metadata": {},
   "outputs": [],
   "source": []
  },
  {
   "cell_type": "markdown",
   "metadata": {},
   "source": [
    "Longer strings that span multiple lines can be contained by a pair of three double quotes. \n",
    "\n",
    "Create a new `string` variable with an additional line of text to the below variable `long_string`."
   ]
  },
  {
   "cell_type": "code",
   "execution_count": null,
   "metadata": {},
   "outputs": [],
   "source": [
    "long_string = \"\"\"\n",
    "This is my very long string.\n",
    "It can even contain line breaks.\n",
    "\"\"\"\n",
    "\n",
    "print(long_string)"
   ]
  },
  {
   "cell_type": "markdown",
   "metadata": {},
   "source": [
    "## 6. Errors\n",
    "\n",
    "It's helpful to read the error messages that Python outputs when it comes across an error. You can read more about error messages in the [Python Docs](https://docs.python.org/3.6/tutorial/errors.html)\n",
    "\n",
    "Run the below code and fix what the error message says is going wrong and fix the code."
   ]
  },
  {
   "cell_type": "code",
   "execution_count": null,
   "metadata": {},
   "outputs": [],
   "source": [
    "a = 123\n",
    "print(A)"
   ]
  },
  {
   "cell_type": "code",
   "execution_count": null,
   "metadata": {},
   "outputs": [],
   "source": [
    "4 + '32'"
   ]
  },
  {
   "cell_type": "code",
   "execution_count": null,
   "metadata": {},
   "outputs": [],
   "source": [
    "answer = 42\n",
    "print answer"
   ]
  }
 ],
 "metadata": {
  "kernelspec": {
   "display_name": "Python 3",
   "language": "python",
   "name": "python3"
  },
  "language_info": {
   "codemirror_mode": {
    "name": "ipython",
    "version": 3
   },
   "file_extension": ".py",
   "mimetype": "text/x-python",
   "name": "python",
   "nbconvert_exporter": "python",
   "pygments_lexer": "ipython3",
   "version": "3.7.2"
  }
 },
 "nbformat": 4,
 "nbformat_minor": 2
}
