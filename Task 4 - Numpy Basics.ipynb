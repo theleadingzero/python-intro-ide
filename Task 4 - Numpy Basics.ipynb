{
 "cells": [
  {
   "cell_type": "markdown",
   "metadata": {},
   "source": [
    "# NumPy Basics\n",
    "\n",
    "This notebook introduces the basics for working with NumPy - a package which makes working with numerical data much nicer than when only using plain Python. If you have worked with Matlab, then you will see some similarities. If you haven't worked with Matlab before, that's entirely fine, it's not a prerequisite.\n",
    "\n",
    "You can find more help in the [NumPy docs](https://docs.scipy.org/doc/numpy/user/quickstart.html)."
   ]
  },
  {
   "cell_type": "markdown",
   "metadata": {},
   "source": [
    "## 1. Installation\n",
    "\n",
    "You need to install NumPy into your Anaconda environment. To do so from the command-line, activate the environment you want to use (this may include creating a new environment, if you want). Then type the following into the terminal:\n",
    "\n",
    "`pip install numpy`\n",
    "\n",
    "You should see eventually the message 'successful' printed to the screen.\n",
    "\n",
    "`pip` is a Python package installation tool.\n"
   ]
  },
  {
   "cell_type": "markdown",
   "metadata": {},
   "source": [
    "## 2. Importing\n",
    "\n",
    "Python calls its libraries packages. To use any code from a library or package that isn't built into Python, you need to `import` the package. \n",
    "\n",
    "`import numpy`\n",
    "\n",
    "The above line makes all the code within NumPy accessible to your Python code, but you need to include `numpy` in front of the functions or variables to say that you are using code from that particular package.\n",
    "\n",
    "`new_array = numpy.array([1,4,6])`\n",
    "\n",
    "You can also use the keyword `as` to rename the package, usually to make it shorter to type.\n",
    "\n",
    "```import numpy as np\n",
    "new_array = np.array([1,4,6])\n",
    "```\n",
    "\n",
    "Import the NumPy package below. You need to do this only once for each notebook or Python script or Python interactive shell session."
   ]
  },
  {
   "cell_type": "code",
   "execution_count": null,
   "metadata": {},
   "outputs": [],
   "source": [
    "# import the numpy package, renaming it to np"
   ]
  },
  {
   "cell_type": "markdown",
   "metadata": {},
   "source": [
    "## 3. Creating Arrays\n",
    "\n",
    "Read through [The Basics Section in the NumPy Docs](https://docs.scipy.org/doc/numpy/user/quickstart.html#the-basics). Then create the following NumPy arrays:"
   ]
  },
  {
   "cell_type": "code",
   "execution_count": null,
   "metadata": {},
   "outputs": [],
   "source": [
    "# [4.5, 6.1, 0.3, 2.4]"
   ]
  },
  {
   "cell_type": "code",
   "execution_count": null,
   "metadata": {},
   "outputs": [],
   "source": [
    "#  [[0., 0.],\n",
    "#   [0., 0.],\n",
    "#   [0., 0.]]"
   ]
  },
  {
   "cell_type": "code",
   "execution_count": null,
   "metadata": {},
   "outputs": [],
   "source": [
    "# [[1., 1., 1.],\n",
    "#  [1., 1., 1.],\n",
    "#  [1., 1., 1.]]"
   ]
  },
  {
   "cell_type": "code",
   "execution_count": null,
   "metadata": {},
   "outputs": [],
   "source": [
    "# [[1, 1, 1],\n",
    "#  [1, 1, 1]]"
   ]
  },
  {
   "cell_type": "code",
   "execution_count": null,
   "metadata": {},
   "outputs": [],
   "source": [
    "# [0, 1, 2, 3, 4, 5, 6, 7]"
   ]
  },
  {
   "cell_type": "code",
   "execution_count": null,
   "metadata": {},
   "outputs": [],
   "source": [
    "# 3 x 3 array of random numbers"
   ]
  },
  {
   "cell_type": "code",
   "execution_count": null,
   "metadata": {},
   "outputs": [],
   "source": [
    "# 2 x 4 array of random numbers between 5 and 10"
   ]
  },
  {
   "cell_type": "markdown",
   "metadata": {},
   "source": [
    "## 4. Slicing Arrays\n",
    "\n",
    "Arrays follow the same rules as lists and strings. However, you now need to consider multiple dimesions. See the examples below."
   ]
  },
  {
   "cell_type": "code",
   "execution_count": null,
   "metadata": {},
   "outputs": [],
   "source": [
    "a = np.arange(12).reshape(4,3) \n",
    "print(a)\n",
    "\n",
    "# first column\n",
    "print( a[:, 0])\n",
    "\n",
    "# first row\n",
    "print( a[0, :])"
   ]
  },
  {
   "cell_type": "markdown",
   "metadata": {},
   "source": [
    "Do the following exercises:"
   ]
  },
  {
   "cell_type": "code",
   "execution_count": null,
   "metadata": {},
   "outputs": [],
   "source": [
    "a = np.arange(20).reshape(10, 2)\n",
    "\n",
    "# print the column of odd numbers\n",
    "\n",
    "# print the column of even numbers"
   ]
  },
  {
   "cell_type": "code",
   "execution_count": null,
   "metadata": {},
   "outputs": [],
   "source": [
    "a = np.arange(100)\n",
    "\n",
    "# print the first 20 numbers\n",
    "\n",
    "# print the 50th through 57th numbers (should print 49 to 56)\n",
    "\n",
    "# print the last 8 numbers in reverse order ( 99, 98, 97, 96, 95, 94, 93, 92)"
   ]
  }
 ],
 "metadata": {
  "kernelspec": {
   "display_name": "Python 3",
   "language": "python",
   "name": "python3"
  },
  "language_info": {
   "codemirror_mode": {
    "name": "ipython",
    "version": 3
   },
   "file_extension": ".py",
   "mimetype": "text/x-python",
   "name": "python",
   "nbconvert_exporter": "python",
   "pygments_lexer": "ipython3",
   "version": "3.7.2"
  }
 },
 "nbformat": 4,
 "nbformat_minor": 2
}
